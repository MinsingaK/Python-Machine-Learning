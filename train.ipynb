{
 "cells": [
  {
   "cell_type": "code",
   "execution_count": 143,
   "id": "b4786865",
   "metadata": {},
   "outputs": [],
   "source": [
    "import numpy as np\n",
    "import pandas as pd\n",
    "import matplotlib.pyplot as plt\n",
    "import seaborn as sns"
   ]
  },
  {
   "cell_type": "markdown",
   "id": "3d18571a",
   "metadata": {},
   "source": [
    "# Numpy"
   ]
  },
  {
   "cell_type": "code",
   "execution_count": 2,
   "id": "09ead272",
   "metadata": {},
   "outputs": [
    {
     "data": {
      "text/plain": [
       "(10,)"
      ]
     },
     "execution_count": 2,
     "metadata": {},
     "output_type": "execute_result"
    }
   ],
   "source": [
    "a1 = np.arange(10)\n",
    "a1.shape"
   ]
  },
  {
   "cell_type": "code",
   "execution_count": 3,
   "id": "259f155f",
   "metadata": {},
   "outputs": [
    {
     "data": {
      "text/plain": [
       "array([0, 2, 4, 6, 8])"
      ]
     },
     "execution_count": 3,
     "metadata": {},
     "output_type": "execute_result"
    }
   ],
   "source": [
    "a2 = np.arange(0, 10, 2) # On va de 0 a 10 par pas de 2\n",
    "a2"
   ]
  },
  {
   "cell_type": "code",
   "execution_count": 4,
   "id": "04468f6a",
   "metadata": {},
   "outputs": [
    {
     "data": {
      "text/plain": [
       "array([0., 0., 0.])"
      ]
     },
     "execution_count": 4,
     "metadata": {},
     "output_type": "execute_result"
    }
   ],
   "source": [
    "a3 = np.zeros(3)\n",
    "a3"
   ]
  },
  {
   "cell_type": "code",
   "execution_count": 5,
   "id": "b8b9d1c8",
   "metadata": {},
   "outputs": [
    {
     "data": {
      "text/plain": [
       "array([[1, 0, 0, 0],\n",
       "       [0, 1, 0, 0],\n",
       "       [0, 0, 1, 0],\n",
       "       [0, 0, 0, 1]])"
      ]
     },
     "execution_count": 5,
     "metadata": {},
     "output_type": "execute_result"
    }
   ],
   "source": [
    "a4 = np.eye(4) #Matrice identité\n",
    "a4.astype(int)"
   ]
  },
  {
   "cell_type": "code",
   "execution_count": 6,
   "id": "7ac3bcf0",
   "metadata": {},
   "outputs": [
    {
     "data": {
      "text/plain": [
       "array([[ 1,  2,  3,  4,  5],\n",
       "       [ 6,  7,  8,  9, 10],\n",
       "       [12, 14, 16, 18, 20]])"
      ]
     },
     "execution_count": 6,
     "metadata": {},
     "output_type": "execute_result"
    }
   ],
   "source": [
    "list1 = np.arange(1,6,1)\n",
    "list2 = np.arange(6,11,1)\n",
    "list3 = np.arange(12, 22, 2)\n",
    "r = np.array([list1, list2, list3])\n",
    "r"
   ]
  },
  {
   "cell_type": "code",
   "execution_count": 7,
   "id": "506a1f60",
   "metadata": {},
   "outputs": [
    {
     "data": {
      "text/plain": [
       "array([[ 1,  2,  3,  4,  5],\n",
       "       [ 6,  7,  8,  9, 10],\n",
       "       [12, 14, 16, 18, 20]])"
      ]
     },
     "execution_count": 7,
     "metadata": {},
     "output_type": "execute_result"
    }
   ],
   "source": [
    "r[:,:]"
   ]
  },
  {
   "cell_type": "code",
   "execution_count": 8,
   "id": "4c9193c6",
   "metadata": {},
   "outputs": [
    {
     "data": {
      "text/plain": [
       "array([[ 6,  7,  8,  9, 10],\n",
       "       [12, 14, 16, 18, 20]])"
      ]
     },
     "execution_count": 8,
     "metadata": {},
     "output_type": "execute_result"
    }
   ],
   "source": [
    "r[1:] #Prend tout a partir de la premiere ligne"
   ]
  },
  {
   "cell_type": "code",
   "execution_count": 9,
   "id": "9c477f7a",
   "metadata": {},
   "outputs": [
    {
     "data": {
      "text/plain": [
       "array([[1, 2, 3, 4, 5]])"
      ]
     },
     "execution_count": 9,
     "metadata": {},
     "output_type": "execute_result"
    }
   ],
   "source": [
    "r[:1] #Ne prend que la premiere ligne"
   ]
  },
  {
   "cell_type": "code",
   "execution_count": 10,
   "id": "a834c979",
   "metadata": {},
   "outputs": [
    {
     "data": {
      "text/plain": [
       "array([[ 1],\n",
       "       [ 6],\n",
       "       [12]])"
      ]
     },
     "execution_count": 10,
     "metadata": {},
     "output_type": "execute_result"
    }
   ],
   "source": [
    "r[:,:1] #Idem, ne prend que la premiere colonnne"
   ]
  },
  {
   "cell_type": "code",
   "execution_count": 11,
   "id": "0c9e56a3",
   "metadata": {},
   "outputs": [
    {
     "data": {
      "text/plain": [
       "array([[ 3,  4,  5],\n",
       "       [ 8,  9, 10],\n",
       "       [16, 18, 20]])"
      ]
     },
     "execution_count": 11,
     "metadata": {},
     "output_type": "execute_result"
    }
   ],
   "source": [
    "r[:,2:] #Prend a partir de la 2e colonne, avec la 2e colonne exclue"
   ]
  },
  {
   "cell_type": "code",
   "execution_count": 12,
   "id": "e2803fb8",
   "metadata": {},
   "outputs": [
    {
     "data": {
      "text/plain": [
       "array([[ 1,  2,  3,  4,  5],\n",
       "       [ 6,  7,  8,  9, 10],\n",
       "       [12, 14, 16, 18, 20]])"
      ]
     },
     "execution_count": 12,
     "metadata": {},
     "output_type": "execute_result"
    }
   ],
   "source": [
    "r"
   ]
  },
  {
   "cell_type": "code",
   "execution_count": 13,
   "id": "87e55f79",
   "metadata": {},
   "outputs": [
    {
     "data": {
      "text/plain": [
       "array([14, 16])"
      ]
     },
     "execution_count": 13,
     "metadata": {},
     "output_type": "execute_result"
    }
   ],
   "source": [
    "r[2,1:3]"
   ]
  },
  {
   "cell_type": "code",
   "execution_count": 14,
   "id": "cd269c2a",
   "metadata": {},
   "outputs": [
    {
     "data": {
      "text/plain": [
       "array([[ 6,  7,  8],\n",
       "       [12, 14, 16]])"
      ]
     },
     "execution_count": 14,
     "metadata": {},
     "output_type": "execute_result"
    }
   ],
   "source": [
    "r[1:3, :3]"
   ]
  },
  {
   "cell_type": "code",
   "execution_count": 15,
   "id": "dbf4e297",
   "metadata": {},
   "outputs": [
    {
     "data": {
      "text/plain": [
       "array([[ 9, 10],\n",
       "       [18, 20]])"
      ]
     },
     "execution_count": 15,
     "metadata": {},
     "output_type": "execute_result"
    }
   ],
   "source": [
    "r[-2:,-2:]"
   ]
  },
  {
   "cell_type": "code",
   "execution_count": 16,
   "id": "e1553f81",
   "metadata": {},
   "outputs": [
    {
     "data": {
      "text/plain": [
       "array([6, 5])"
      ]
     },
     "execution_count": 16,
     "metadata": {},
     "output_type": "execute_result"
    }
   ],
   "source": [
    "x = np.array([2,3])\n",
    "y = np.array([4,2])\n",
    "z = np.add(x, y)\n",
    "z"
   ]
  },
  {
   "cell_type": "code",
   "execution_count": 17,
   "id": "4925529e",
   "metadata": {},
   "outputs": [
    {
     "data": {
      "text/plain": [
       "array([-2,  1])"
      ]
     },
     "execution_count": 17,
     "metadata": {},
     "output_type": "execute_result"
    }
   ],
   "source": [
    "x - y"
   ]
  },
  {
   "cell_type": "code",
   "execution_count": 18,
   "id": "3d67c01e",
   "metadata": {},
   "outputs": [
    {
     "data": {
      "text/plain": [
       "array([8, 6])"
      ]
     },
     "execution_count": 18,
     "metadata": {},
     "output_type": "execute_result"
    }
   ],
   "source": [
    "x * y"
   ]
  },
  {
   "cell_type": "code",
   "execution_count": 19,
   "id": "c5d70831",
   "metadata": {},
   "outputs": [
    {
     "data": {
      "text/plain": [
       "array([0.5, 1.5])"
      ]
     },
     "execution_count": 19,
     "metadata": {},
     "output_type": "execute_result"
    }
   ],
   "source": [
    "x / y"
   ]
  },
  {
   "cell_type": "code",
   "execution_count": 20,
   "id": "cabbd094",
   "metadata": {},
   "outputs": [
    {
     "data": {
      "text/plain": [
       "14"
      ]
     },
     "execution_count": 20,
     "metadata": {},
     "output_type": "execute_result"
    }
   ],
   "source": [
    "z = np.dot(x,y)# produit de 2 matrices\n",
    "z"
   ]
  },
  {
   "cell_type": "code",
   "execution_count": 21,
   "id": "4afde8b2",
   "metadata": {},
   "outputs": [
    {
     "data": {
      "text/plain": [
       "numpy.matrix"
      ]
     },
     "execution_count": 21,
     "metadata": {},
     "output_type": "execute_result"
    }
   ],
   "source": [
    "x1 = np.array([[1,2],[4,5]])\n",
    "x2 = np.array([[1,2],[4,5]])\n",
    "\n",
    "y1 = np.asmatrix(x1) #convertir un tableau numpy en matrice\n",
    "type(y1)"
   ]
  },
  {
   "cell_type": "code",
   "execution_count": 22,
   "id": "39a0ca32",
   "metadata": {},
   "outputs": [],
   "source": [
    "names = np.array(['Anne','Joe','Mark'])\n",
    "heights = np.array([1.5, 1.78, 1.6])\n",
    "weights = np.array([65, 46, 59])"
   ]
  },
  {
   "cell_type": "code",
   "execution_count": 23,
   "id": "43eb20ad",
   "metadata": {},
   "outputs": [
    {
     "data": {
      "text/plain": [
       "array([28.88888889, 14.51836889, 23.046875  ])"
      ]
     },
     "execution_count": 23,
     "metadata": {},
     "output_type": "execute_result"
    }
   ],
   "source": [
    "bm1 = weights / heights ** 2\n",
    "bm1"
   ]
  },
  {
   "cell_type": "code",
   "execution_count": 24,
   "id": "4a2275ff",
   "metadata": {},
   "outputs": [
    {
     "name": "stdout",
     "output_type": "stream",
     "text": [
      "Overweight  ['Anne']\n",
      "Underweight  ['Joe']\n",
      "Normalweight  ['Mark']\n"
     ]
    }
   ],
   "source": [
    "#Très bonne façon de faire des eindexations avec des conditions également\n",
    "print(\"Overweight \", names[bm1 > 25])\n",
    "print(\"Underweight \", names[bm1 < 18.5])\n",
    "print(\"Normalweight \", names[(bm1 <= 25) & (bm1 >= 18.5)])"
   ]
  },
  {
   "cell_type": "code",
   "execution_count": 25,
   "id": "4d24af72",
   "metadata": {},
   "outputs": [
    {
     "data": {
      "text/plain": [
       "array([3, 1, 5, 4, 0, 2], dtype=int64)"
      ]
     },
     "execution_count": 25,
     "metadata": {},
     "output_type": "execute_result"
    }
   ],
   "source": [
    "l = np.array([32, 4, 90, 1, 24, 18]) # retourne les indices du plus petit au plus grand\n",
    "l.argsort()"
   ]
  },
  {
   "cell_type": "code",
   "execution_count": 26,
   "id": "68563032",
   "metadata": {},
   "outputs": [
    {
     "data": {
      "text/plain": [
       "array([ 1,  4, 18, 24, 32, 90])"
      ]
     },
     "execution_count": 26,
     "metadata": {},
     "output_type": "execute_result"
    }
   ],
   "source": [
    "l[l.argsort()] # sort le tableau normalement"
   ]
  },
  {
   "cell_type": "code",
   "execution_count": 27,
   "id": "0d2243da",
   "metadata": {},
   "outputs": [],
   "source": [
    "persons = np.array(['Johnny','Mary','Peter','Will','Joe'])\n",
    "ages = np.array([34, 12, 37, 5, 13])\n",
    "heights = np.array([1.76, 1.2, 1.68, 0.5, 1.25])"
   ]
  },
  {
   "cell_type": "code",
   "execution_count": 28,
   "id": "1a8618f7",
   "metadata": {},
   "outputs": [],
   "source": [
    "#Rangement fait suivant l'age\n",
    "sort_indices = ages.argsort()"
   ]
  },
  {
   "cell_type": "code",
   "execution_count": 29,
   "id": "24230eb7",
   "metadata": {},
   "outputs": [
    {
     "name": "stdout",
     "output_type": "stream",
     "text": [
      "['Will' 'Mary' 'Joe' 'Johnny' 'Peter']\n",
      "[0.5  1.2  1.25 1.76 1.68]\n",
      "[ 5 12 13 34 37]\n"
     ]
    }
   ],
   "source": [
    "print(persons[sort_indices])\n",
    "print(heights[sort_indices])\n",
    "print(ages[sort_indices])"
   ]
  },
  {
   "cell_type": "code",
   "execution_count": 30,
   "id": "f344d6ed",
   "metadata": {},
   "outputs": [],
   "source": [
    "#Rangement fait suivant le nom\n",
    "sort_indices = persons.argsort()"
   ]
  },
  {
   "cell_type": "code",
   "execution_count": 31,
   "id": "e09005e7",
   "metadata": {},
   "outputs": [
    {
     "name": "stdout",
     "output_type": "stream",
     "text": [
      "['Joe' 'Johnny' 'Mary' 'Peter' 'Will']\n",
      "[1.25 1.76 1.2  1.68 0.5 ]\n",
      "[13 34 12 37  5]\n"
     ]
    }
   ],
   "source": [
    "print(persons[sort_indices])\n",
    "print(heights[sort_indices])\n",
    "print(ages[sort_indices])"
   ]
  },
  {
   "cell_type": "code",
   "execution_count": 32,
   "id": "ba385052",
   "metadata": {},
   "outputs": [],
   "source": [
    "#Rangement fait suivant le poids\n",
    "sort_indices = heights.argsort()"
   ]
  },
  {
   "cell_type": "code",
   "execution_count": 33,
   "id": "7ce9bda5",
   "metadata": {},
   "outputs": [
    {
     "name": "stdout",
     "output_type": "stream",
     "text": [
      "['Will' 'Mary' 'Joe' 'Peter' 'Johnny']\n",
      "[0.5  1.2  1.25 1.68 1.76]\n",
      "[ 5 12 13 37 34]\n"
     ]
    }
   ],
   "source": [
    "print(persons[sort_indices])\n",
    "print(heights[sort_indices])\n",
    "print(ages[sort_indices])"
   ]
  },
  {
   "cell_type": "code",
   "execution_count": 34,
   "id": "3d2dfdd8",
   "metadata": {},
   "outputs": [
    {
     "data": {
      "text/plain": [
       "array([[1, 4, 3],\n",
       "       [1, 3, 6]])"
      ]
     },
     "execution_count": 34,
     "metadata": {},
     "output_type": "execute_result"
    }
   ],
   "source": [
    "arr = np.array([(1,4,3), (1,3,6)])\n",
    "arr"
   ]
  },
  {
   "cell_type": "code",
   "execution_count": 35,
   "id": "01f9dbfb",
   "metadata": {},
   "outputs": [
    {
     "data": {
      "text/plain": [
       "array([ 1,  5,  8,  9, 12, 18])"
      ]
     },
     "execution_count": 35,
     "metadata": {},
     "output_type": "execute_result"
    }
   ],
   "source": [
    "arr.cumsum()"
   ]
  },
  {
   "cell_type": "code",
   "execution_count": 36,
   "id": "075485e3",
   "metadata": {},
   "outputs": [
    {
     "data": {
      "text/plain": [
       "array([  1,   4,  12,  12,  36, 216])"
      ]
     },
     "execution_count": 36,
     "metadata": {},
     "output_type": "execute_result"
    }
   ],
   "source": [
    "arr.cumprod()"
   ]
  },
  {
   "cell_type": "markdown",
   "id": "786ee283",
   "metadata": {},
   "source": [
    "# Pandas"
   ]
  },
  {
   "cell_type": "code",
   "execution_count": 37,
   "id": "336c0d1a",
   "metadata": {},
   "outputs": [
    {
     "data": {
      "text/html": [
       "<div>\n",
       "<style scoped>\n",
       "    .dataframe tbody tr th:only-of-type {\n",
       "        vertical-align: middle;\n",
       "    }\n",
       "\n",
       "    .dataframe tbody tr th {\n",
       "        vertical-align: top;\n",
       "    }\n",
       "\n",
       "    .dataframe thead th {\n",
       "        text-align: right;\n",
       "    }\n",
       "</style>\n",
       "<table border=\"1\" class=\"dataframe\">\n",
       "  <thead>\n",
       "    <tr style=\"text-align: right;\">\n",
       "      <th></th>\n",
       "      <th>Nums</th>\n",
       "    </tr>\n",
       "  </thead>\n",
       "  <tbody>\n",
       "    <tr>\n",
       "      <th>0</th>\n",
       "      <td>1</td>\n",
       "    </tr>\n",
       "    <tr>\n",
       "      <th>1</th>\n",
       "      <td>2</td>\n",
       "    </tr>\n",
       "    <tr>\n",
       "      <th>2</th>\n",
       "      <td>3</td>\n",
       "    </tr>\n",
       "    <tr>\n",
       "      <th>3</th>\n",
       "      <td>4</td>\n",
       "    </tr>\n",
       "    <tr>\n",
       "      <th>4</th>\n",
       "      <td>5</td>\n",
       "    </tr>\n",
       "  </tbody>\n",
       "</table>\n",
       "</div>"
      ],
      "text/plain": [
       "   Nums\n",
       "0     1\n",
       "1     2\n",
       "2     3\n",
       "3     4\n",
       "4     5"
      ]
     },
     "execution_count": 37,
     "metadata": {},
     "output_type": "execute_result"
    }
   ],
   "source": [
    "ser = pd.Series([1,2,3,4,5])\n",
    "s = pd.DataFrame(ser, columns=['Nums'])\n",
    "s"
   ]
  },
  {
   "cell_type": "code",
   "execution_count": 56,
   "id": "4795e6b1",
   "metadata": {},
   "outputs": [
    {
     "data": {
      "text/plain": [
       "DatetimeIndex(['2023-05-22', '2023-05-23', '2023-05-24', '2023-05-25',\n",
       "               '2023-05-26', '2023-05-27', '2023-05-28', '2023-05-29',\n",
       "               '2023-05-30', '2023-05-31', '2023-06-01', '2023-06-02'],\n",
       "              dtype='datetime64[ns]', freq='D')"
      ]
     },
     "execution_count": 56,
     "metadata": {},
     "output_type": "execute_result"
    }
   ],
   "source": [
    "# renvoie les n dates après celle passée en paramètres. n ici étant la période\n",
    "dates = pd.date_range('20230522', periods=12)\n",
    "dates"
   ]
  },
  {
   "cell_type": "code",
   "execution_count": 39,
   "id": "5abad954",
   "metadata": {},
   "outputs": [
    {
     "data": {
      "text/plain": [
       "12"
      ]
     },
     "execution_count": 39,
     "metadata": {},
     "output_type": "execute_result"
    }
   ],
   "source": [
    "dates.size"
   ]
  },
  {
   "cell_type": "code",
   "execution_count": 57,
   "id": "2d246f0f",
   "metadata": {},
   "outputs": [
    {
     "data": {
      "text/plain": [
       "2023-05-22     1\n",
       "2023-05-23     2\n",
       "2023-05-24     3\n",
       "2023-05-25     4\n",
       "2023-05-26     5\n",
       "2023-05-27     6\n",
       "2023-05-28     7\n",
       "2023-05-29     8\n",
       "2023-05-30     9\n",
       "2023-05-31    10\n",
       "2023-06-01    11\n",
       "2023-06-02    12\n",
       "Freq: D, dtype: int64"
      ]
     },
     "execution_count": 57,
     "metadata": {},
     "output_type": "execute_result"
    }
   ],
   "source": [
    "series = pd.Series(range(1,13,1)) # crée les index de la série\n",
    "series.index = dates # Assigne ces index à celles de dates\n",
    "series"
   ]
  },
  {
   "cell_type": "code",
   "execution_count": 41,
   "id": "985d4b8f",
   "metadata": {},
   "outputs": [
    {
     "data": {
      "text/plain": [
       "DatetimeIndex(['2023-02-01', '2023-03-01', '2023-04-01', '2023-05-01',\n",
       "               '2023-06-01', '2023-07-01', '2023-08-01', '2023-09-01',\n",
       "               '2023-10-01', '2023-11-01', '2023-12-01', '2024-01-01'],\n",
       "              dtype='datetime64[ns]', freq='MS')"
      ]
     },
     "execution_count": 41,
     "metadata": {},
     "output_type": "execute_result"
    }
   ],
   "source": [
    "dates2 = pd.date_range('20230102', freq='MS',periods=12)\n",
    "dates2"
   ]
  },
  {
   "cell_type": "code",
   "execution_count": 42,
   "id": "36188d1f",
   "metadata": {},
   "outputs": [
    {
     "data": {
      "text/plain": [
       "2023-02-01     1\n",
       "2023-03-01     2\n",
       "2023-04-01     3\n",
       "2023-05-01     4\n",
       "2023-06-01     5\n",
       "2023-07-01     6\n",
       "2023-08-01     7\n",
       "2023-09-01     8\n",
       "2023-10-01     9\n",
       "2023-11-01    10\n",
       "2023-12-01    11\n",
       "2024-01-01    12\n",
       "Freq: MS, dtype: int64"
      ]
     },
     "execution_count": 42,
     "metadata": {},
     "output_type": "execute_result"
    }
   ],
   "source": [
    "series2 = pd.Series(range(1,13,1))\n",
    "series2.index = dates2\n",
    "series2"
   ]
  },
  {
   "cell_type": "markdown",
   "id": "298338ae",
   "metadata": {},
   "source": [
    "# Pandas Dataframe"
   ]
  },
  {
   "cell_type": "code",
   "execution_count": 43,
   "id": "e2216566",
   "metadata": {},
   "outputs": [
    {
     "data": {
      "text/html": [
       "<div>\n",
       "<style scoped>\n",
       "    .dataframe tbody tr th:only-of-type {\n",
       "        vertical-align: middle;\n",
       "    }\n",
       "\n",
       "    .dataframe tbody tr th {\n",
       "        vertical-align: top;\n",
       "    }\n",
       "\n",
       "    .dataframe thead th {\n",
       "        text-align: right;\n",
       "    }\n",
       "</style>\n",
       "<table border=\"1\" class=\"dataframe\">\n",
       "  <thead>\n",
       "    <tr style=\"text-align: right;\">\n",
       "      <th></th>\n",
       "      <th>A</th>\n",
       "      <th>B</th>\n",
       "      <th>C</th>\n",
       "      <th>D</th>\n",
       "    </tr>\n",
       "  </thead>\n",
       "  <tbody>\n",
       "    <tr>\n",
       "      <th>2019-05-25</th>\n",
       "      <td>1.083160</td>\n",
       "      <td>-0.264953</td>\n",
       "      <td>1.222483</td>\n",
       "      <td>1.366464</td>\n",
       "    </tr>\n",
       "    <tr>\n",
       "      <th>2019-05-26</th>\n",
       "      <td>0.342850</td>\n",
       "      <td>1.165591</td>\n",
       "      <td>-0.916339</td>\n",
       "      <td>0.103206</td>\n",
       "    </tr>\n",
       "    <tr>\n",
       "      <th>2019-05-27</th>\n",
       "      <td>-1.503613</td>\n",
       "      <td>0.576290</td>\n",
       "      <td>-2.503532</td>\n",
       "      <td>0.913150</td>\n",
       "    </tr>\n",
       "    <tr>\n",
       "      <th>2019-05-28</th>\n",
       "      <td>-0.189507</td>\n",
       "      <td>-0.862010</td>\n",
       "      <td>0.400882</td>\n",
       "      <td>-2.913404</td>\n",
       "    </tr>\n",
       "    <tr>\n",
       "      <th>2019-05-29</th>\n",
       "      <td>0.676132</td>\n",
       "      <td>0.253798</td>\n",
       "      <td>1.024953</td>\n",
       "      <td>-1.086171</td>\n",
       "    </tr>\n",
       "    <tr>\n",
       "      <th>2019-05-30</th>\n",
       "      <td>-0.331200</td>\n",
       "      <td>0.688726</td>\n",
       "      <td>0.917677</td>\n",
       "      <td>-1.261442</td>\n",
       "    </tr>\n",
       "    <tr>\n",
       "      <th>2019-05-31</th>\n",
       "      <td>0.641816</td>\n",
       "      <td>0.468977</td>\n",
       "      <td>-1.375919</td>\n",
       "      <td>0.234675</td>\n",
       "    </tr>\n",
       "    <tr>\n",
       "      <th>2019-06-01</th>\n",
       "      <td>0.157447</td>\n",
       "      <td>0.348344</td>\n",
       "      <td>0.968341</td>\n",
       "      <td>-0.366444</td>\n",
       "    </tr>\n",
       "    <tr>\n",
       "      <th>2019-06-02</th>\n",
       "      <td>-0.798618</td>\n",
       "      <td>-1.742339</td>\n",
       "      <td>0.585558</td>\n",
       "      <td>-0.684720</td>\n",
       "    </tr>\n",
       "    <tr>\n",
       "      <th>2019-06-03</th>\n",
       "      <td>1.434654</td>\n",
       "      <td>-0.682491</td>\n",
       "      <td>-0.624478</td>\n",
       "      <td>1.713271</td>\n",
       "    </tr>\n",
       "  </tbody>\n",
       "</table>\n",
       "</div>"
      ],
      "text/plain": [
       "                   A         B         C         D\n",
       "2019-05-25  1.083160 -0.264953  1.222483  1.366464\n",
       "2019-05-26  0.342850  1.165591 -0.916339  0.103206\n",
       "2019-05-27 -1.503613  0.576290 -2.503532  0.913150\n",
       "2019-05-28 -0.189507 -0.862010  0.400882 -2.913404\n",
       "2019-05-29  0.676132  0.253798  1.024953 -1.086171\n",
       "2019-05-30 -0.331200  0.688726  0.917677 -1.261442\n",
       "2019-05-31  0.641816  0.468977 -1.375919  0.234675\n",
       "2019-06-01  0.157447  0.348344  0.968341 -0.366444\n",
       "2019-06-02 -0.798618 -1.742339  0.585558 -0.684720\n",
       "2019-06-03  1.434654 -0.682491 -0.624478  1.713271"
      ]
     },
     "execution_count": 43,
     "metadata": {},
     "output_type": "execute_result"
    }
   ],
   "source": [
    "df = pd.DataFrame(np.random.randn(10,4), columns=list('ABCD')) #crée un dataframe de 10 lignes et 4 colonnes en attriibuant des nombres de manière aléatoire\n",
    "days = pd.date_range('20190525', periods=10)\n",
    "df.index = days\n",
    "df"
   ]
  },
  {
   "cell_type": "code",
   "execution_count": 44,
   "id": "9df0fe08",
   "metadata": {},
   "outputs": [
    {
     "data": {
      "text/html": [
       "<div>\n",
       "<style scoped>\n",
       "    .dataframe tbody tr th:only-of-type {\n",
       "        vertical-align: middle;\n",
       "    }\n",
       "\n",
       "    .dataframe tbody tr th {\n",
       "        vertical-align: top;\n",
       "    }\n",
       "\n",
       "    .dataframe thead th {\n",
       "        text-align: right;\n",
       "    }\n",
       "</style>\n",
       "<table border=\"1\" class=\"dataframe\">\n",
       "  <thead>\n",
       "    <tr style=\"text-align: right;\">\n",
       "      <th></th>\n",
       "      <th>A</th>\n",
       "      <th>B</th>\n",
       "      <th>C</th>\n",
       "      <th>D</th>\n",
       "    </tr>\n",
       "  </thead>\n",
       "  <tbody>\n",
       "    <tr>\n",
       "      <th>2019-05-27</th>\n",
       "      <td>-1.503613</td>\n",
       "      <td>0.576290</td>\n",
       "      <td>-2.503532</td>\n",
       "      <td>0.913150</td>\n",
       "    </tr>\n",
       "    <tr>\n",
       "      <th>2019-05-28</th>\n",
       "      <td>-0.189507</td>\n",
       "      <td>-0.862010</td>\n",
       "      <td>0.400882</td>\n",
       "      <td>-2.913404</td>\n",
       "    </tr>\n",
       "    <tr>\n",
       "      <th>2019-05-29</th>\n",
       "      <td>0.676132</td>\n",
       "      <td>0.253798</td>\n",
       "      <td>1.024953</td>\n",
       "      <td>-1.086171</td>\n",
       "    </tr>\n",
       "  </tbody>\n",
       "</table>\n",
       "</div>"
      ],
      "text/plain": [
       "                   A         B         C         D\n",
       "2019-05-27 -1.503613  0.576290 -2.503532  0.913150\n",
       "2019-05-28 -0.189507 -0.862010  0.400882 -2.913404\n",
       "2019-05-29  0.676132  0.253798  1.024953 -1.086171"
      ]
     },
     "execution_count": 44,
     "metadata": {},
     "output_type": "execute_result"
    }
   ],
   "source": [
    "df[2:5] # prend a partir de la ligne d'indice 2 a la ligne d'indice 5"
   ]
  },
  {
   "cell_type": "code",
   "execution_count": 45,
   "id": "ec89679a",
   "metadata": {},
   "outputs": [
    {
     "data": {
      "text/html": [
       "<div>\n",
       "<style scoped>\n",
       "    .dataframe tbody tr th:only-of-type {\n",
       "        vertical-align: middle;\n",
       "    }\n",
       "\n",
       "    .dataframe tbody tr th {\n",
       "        vertical-align: top;\n",
       "    }\n",
       "\n",
       "    .dataframe thead th {\n",
       "        text-align: right;\n",
       "    }\n",
       "</style>\n",
       "<table border=\"1\" class=\"dataframe\">\n",
       "  <thead>\n",
       "    <tr style=\"text-align: right;\">\n",
       "      <th></th>\n",
       "      <th>C</th>\n",
       "      <th>D</th>\n",
       "    </tr>\n",
       "  </thead>\n",
       "  <tbody>\n",
       "    <tr>\n",
       "      <th>2019-05-31</th>\n",
       "      <td>-1.375919</td>\n",
       "      <td>0.234675</td>\n",
       "    </tr>\n",
       "    <tr>\n",
       "      <th>2019-06-01</th>\n",
       "      <td>0.968341</td>\n",
       "      <td>-0.366444</td>\n",
       "    </tr>\n",
       "    <tr>\n",
       "      <th>2019-06-02</th>\n",
       "      <td>0.585558</td>\n",
       "      <td>-0.684720</td>\n",
       "    </tr>\n",
       "  </tbody>\n",
       "</table>\n",
       "</div>"
      ],
      "text/plain": [
       "                   C         D\n",
       "2019-05-31 -1.375919  0.234675\n",
       "2019-06-01  0.968341 -0.366444\n",
       "2019-06-02  0.585558 -0.684720"
      ]
     },
     "execution_count": 45,
     "metadata": {},
     "output_type": "execute_result"
    }
   ],
   "source": [
    "df.iloc[6:9, 2:] # prend a partir de la ligne d'indice 6 a la ligne d'indice 8 et les 2 dernieres colonnes"
   ]
  },
  {
   "cell_type": "code",
   "execution_count": 46,
   "id": "b0974061",
   "metadata": {},
   "outputs": [
    {
     "data": {
      "text/html": [
       "<div>\n",
       "<style scoped>\n",
       "    .dataframe tbody tr th:only-of-type {\n",
       "        vertical-align: middle;\n",
       "    }\n",
       "\n",
       "    .dataframe tbody tr th {\n",
       "        vertical-align: top;\n",
       "    }\n",
       "\n",
       "    .dataframe thead th {\n",
       "        text-align: right;\n",
       "    }\n",
       "</style>\n",
       "<table border=\"1\" class=\"dataframe\">\n",
       "  <thead>\n",
       "    <tr style=\"text-align: right;\">\n",
       "      <th></th>\n",
       "      <th>A</th>\n",
       "      <th>B</th>\n",
       "      <th>C</th>\n",
       "      <th>D</th>\n",
       "    </tr>\n",
       "  </thead>\n",
       "  <tbody>\n",
       "    <tr>\n",
       "      <th>2019-05-26</th>\n",
       "      <td>0.342850</td>\n",
       "      <td>1.165591</td>\n",
       "      <td>-0.916339</td>\n",
       "      <td>0.103206</td>\n",
       "    </tr>\n",
       "    <tr>\n",
       "      <th>2019-05-29</th>\n",
       "      <td>0.676132</td>\n",
       "      <td>0.253798</td>\n",
       "      <td>1.024953</td>\n",
       "      <td>-1.086171</td>\n",
       "    </tr>\n",
       "    <tr>\n",
       "      <th>2019-05-31</th>\n",
       "      <td>0.641816</td>\n",
       "      <td>0.468977</td>\n",
       "      <td>-1.375919</td>\n",
       "      <td>0.234675</td>\n",
       "    </tr>\n",
       "    <tr>\n",
       "      <th>2019-06-01</th>\n",
       "      <td>0.157447</td>\n",
       "      <td>0.348344</td>\n",
       "      <td>0.968341</td>\n",
       "      <td>-0.366444</td>\n",
       "    </tr>\n",
       "  </tbody>\n",
       "</table>\n",
       "</div>"
      ],
      "text/plain": [
       "                   A         B         C         D\n",
       "2019-05-26  0.342850  1.165591 -0.916339  0.103206\n",
       "2019-05-29  0.676132  0.253798  1.024953 -1.086171\n",
       "2019-05-31  0.641816  0.468977 -1.375919  0.234675\n",
       "2019-06-01  0.157447  0.348344  0.968341 -0.366444"
      ]
     },
     "execution_count": 46,
     "metadata": {},
     "output_type": "execute_result"
    }
   ],
   "source": [
    "df[(df.A>0) & (df.B>0)]"
   ]
  },
  {
   "cell_type": "code",
   "execution_count": 47,
   "id": "8c8c1d6c",
   "metadata": {},
   "outputs": [],
   "source": [
    "import math\n",
    "sqrt1 = lambda x : math.sqrt(x) if x > 0 else x\n",
    "sq = lambda x : x ** 2\n"
   ]
  },
  {
   "cell_type": "code",
   "execution_count": 48,
   "id": "b742133d",
   "metadata": {},
   "outputs": [
    {
     "data": {
      "text/html": [
       "<div>\n",
       "<style scoped>\n",
       "    .dataframe tbody tr th:only-of-type {\n",
       "        vertical-align: middle;\n",
       "    }\n",
       "\n",
       "    .dataframe tbody tr th {\n",
       "        vertical-align: top;\n",
       "    }\n",
       "\n",
       "    .dataframe thead th {\n",
       "        text-align: right;\n",
       "    }\n",
       "</style>\n",
       "<table border=\"1\" class=\"dataframe\">\n",
       "  <thead>\n",
       "    <tr style=\"text-align: right;\">\n",
       "      <th></th>\n",
       "      <th>A</th>\n",
       "      <th>B</th>\n",
       "      <th>C</th>\n",
       "      <th>D</th>\n",
       "    </tr>\n",
       "  </thead>\n",
       "  <tbody>\n",
       "    <tr>\n",
       "      <th>2019-05-25</th>\n",
       "      <td>1.173236</td>\n",
       "      <td>0.070200</td>\n",
       "      <td>1.494465</td>\n",
       "      <td>1.867223</td>\n",
       "    </tr>\n",
       "    <tr>\n",
       "      <th>2019-05-26</th>\n",
       "      <td>0.117546</td>\n",
       "      <td>1.358603</td>\n",
       "      <td>0.839677</td>\n",
       "      <td>0.010651</td>\n",
       "    </tr>\n",
       "    <tr>\n",
       "      <th>2019-05-27</th>\n",
       "      <td>2.260852</td>\n",
       "      <td>0.332110</td>\n",
       "      <td>6.267674</td>\n",
       "      <td>0.833843</td>\n",
       "    </tr>\n",
       "    <tr>\n",
       "      <th>2019-05-28</th>\n",
       "      <td>0.035913</td>\n",
       "      <td>0.743061</td>\n",
       "      <td>0.160706</td>\n",
       "      <td>8.487925</td>\n",
       "    </tr>\n",
       "    <tr>\n",
       "      <th>2019-05-29</th>\n",
       "      <td>0.457154</td>\n",
       "      <td>0.064414</td>\n",
       "      <td>1.050528</td>\n",
       "      <td>1.179767</td>\n",
       "    </tr>\n",
       "    <tr>\n",
       "      <th>2019-05-30</th>\n",
       "      <td>0.109693</td>\n",
       "      <td>0.474343</td>\n",
       "      <td>0.842132</td>\n",
       "      <td>1.591236</td>\n",
       "    </tr>\n",
       "    <tr>\n",
       "      <th>2019-05-31</th>\n",
       "      <td>0.411928</td>\n",
       "      <td>0.219939</td>\n",
       "      <td>1.893153</td>\n",
       "      <td>0.055072</td>\n",
       "    </tr>\n",
       "    <tr>\n",
       "      <th>2019-06-01</th>\n",
       "      <td>0.024789</td>\n",
       "      <td>0.121344</td>\n",
       "      <td>0.937685</td>\n",
       "      <td>0.134281</td>\n",
       "    </tr>\n",
       "    <tr>\n",
       "      <th>2019-06-02</th>\n",
       "      <td>0.637791</td>\n",
       "      <td>3.035744</td>\n",
       "      <td>0.342878</td>\n",
       "      <td>0.468841</td>\n",
       "    </tr>\n",
       "    <tr>\n",
       "      <th>2019-06-03</th>\n",
       "      <td>2.058231</td>\n",
       "      <td>0.465794</td>\n",
       "      <td>0.389973</td>\n",
       "      <td>2.935297</td>\n",
       "    </tr>\n",
       "  </tbody>\n",
       "</table>\n",
       "</div>"
      ],
      "text/plain": [
       "                   A         B         C         D\n",
       "2019-05-25  1.173236  0.070200  1.494465  1.867223\n",
       "2019-05-26  0.117546  1.358603  0.839677  0.010651\n",
       "2019-05-27  2.260852  0.332110  6.267674  0.833843\n",
       "2019-05-28  0.035913  0.743061  0.160706  8.487925\n",
       "2019-05-29  0.457154  0.064414  1.050528  1.179767\n",
       "2019-05-30  0.109693  0.474343  0.842132  1.591236\n",
       "2019-05-31  0.411928  0.219939  1.893153  0.055072\n",
       "2019-06-01  0.024789  0.121344  0.937685  0.134281\n",
       "2019-06-02  0.637791  3.035744  0.342878  0.468841\n",
       "2019-06-03  2.058231  0.465794  0.389973  2.935297"
      ]
     },
     "execution_count": 48,
     "metadata": {},
     "output_type": "execute_result"
    }
   ],
   "source": [
    "df.apply(sq)"
   ]
  },
  {
   "cell_type": "code",
   "execution_count": 49,
   "id": "869cd81a",
   "metadata": {},
   "outputs": [
    {
     "data": {
      "text/html": [
       "<div>\n",
       "<style scoped>\n",
       "    .dataframe tbody tr th:only-of-type {\n",
       "        vertical-align: middle;\n",
       "    }\n",
       "\n",
       "    .dataframe tbody tr th {\n",
       "        vertical-align: top;\n",
       "    }\n",
       "\n",
       "    .dataframe thead th {\n",
       "        text-align: right;\n",
       "    }\n",
       "</style>\n",
       "<table border=\"1\" class=\"dataframe\">\n",
       "  <thead>\n",
       "    <tr style=\"text-align: right;\">\n",
       "      <th></th>\n",
       "      <th>A</th>\n",
       "      <th>B</th>\n",
       "      <th>C</th>\n",
       "      <th>D</th>\n",
       "    </tr>\n",
       "  </thead>\n",
       "  <tbody>\n",
       "    <tr>\n",
       "      <th>2019-05-25</th>\n",
       "      <td>1.040750</td>\n",
       "      <td>-0.264953</td>\n",
       "      <td>1.105660</td>\n",
       "      <td>1.168958</td>\n",
       "    </tr>\n",
       "    <tr>\n",
       "      <th>2019-05-26</th>\n",
       "      <td>0.585534</td>\n",
       "      <td>1.079626</td>\n",
       "      <td>-0.916339</td>\n",
       "      <td>0.321257</td>\n",
       "    </tr>\n",
       "    <tr>\n",
       "      <th>2019-05-27</th>\n",
       "      <td>-1.503613</td>\n",
       "      <td>0.759138</td>\n",
       "      <td>-2.503532</td>\n",
       "      <td>0.955589</td>\n",
       "    </tr>\n",
       "    <tr>\n",
       "      <th>2019-05-28</th>\n",
       "      <td>-0.189507</td>\n",
       "      <td>-0.862010</td>\n",
       "      <td>0.633152</td>\n",
       "      <td>-2.913404</td>\n",
       "    </tr>\n",
       "    <tr>\n",
       "      <th>2019-05-29</th>\n",
       "      <td>0.822272</td>\n",
       "      <td>0.503784</td>\n",
       "      <td>1.012399</td>\n",
       "      <td>-1.086171</td>\n",
       "    </tr>\n",
       "    <tr>\n",
       "      <th>2019-05-30</th>\n",
       "      <td>-0.331200</td>\n",
       "      <td>0.829895</td>\n",
       "      <td>0.957955</td>\n",
       "      <td>-1.261442</td>\n",
       "    </tr>\n",
       "    <tr>\n",
       "      <th>2019-05-31</th>\n",
       "      <td>0.801134</td>\n",
       "      <td>0.684819</td>\n",
       "      <td>-1.375919</td>\n",
       "      <td>0.484433</td>\n",
       "    </tr>\n",
       "    <tr>\n",
       "      <th>2019-06-01</th>\n",
       "      <td>0.396795</td>\n",
       "      <td>0.590207</td>\n",
       "      <td>0.984043</td>\n",
       "      <td>-0.366444</td>\n",
       "    </tr>\n",
       "    <tr>\n",
       "      <th>2019-06-02</th>\n",
       "      <td>-0.798618</td>\n",
       "      <td>-1.742339</td>\n",
       "      <td>0.765218</td>\n",
       "      <td>-0.684720</td>\n",
       "    </tr>\n",
       "    <tr>\n",
       "      <th>2019-06-03</th>\n",
       "      <td>1.197770</td>\n",
       "      <td>-0.682491</td>\n",
       "      <td>-0.624478</td>\n",
       "      <td>1.308920</td>\n",
       "    </tr>\n",
       "  </tbody>\n",
       "</table>\n",
       "</div>"
      ],
      "text/plain": [
       "                   A         B         C         D\n",
       "2019-05-25  1.040750 -0.264953  1.105660  1.168958\n",
       "2019-05-26  0.585534  1.079626 -0.916339  0.321257\n",
       "2019-05-27 -1.503613  0.759138 -2.503532  0.955589\n",
       "2019-05-28 -0.189507 -0.862010  0.633152 -2.913404\n",
       "2019-05-29  0.822272  0.503784  1.012399 -1.086171\n",
       "2019-05-30 -0.331200  0.829895  0.957955 -1.261442\n",
       "2019-05-31  0.801134  0.684819 -1.375919  0.484433\n",
       "2019-06-01  0.396795  0.590207  0.984043 -0.366444\n",
       "2019-06-02 -0.798618 -1.742339  0.765218 -0.684720\n",
       "2019-06-03  1.197770 -0.682491 -0.624478  1.308920"
      ]
     },
     "execution_count": 49,
     "metadata": {},
     "output_type": "execute_result"
    }
   ],
   "source": [
    "for column in df:\n",
    "    df[column] = df[column].apply(sqrt1)\n",
    "df"
   ]
  },
  {
   "cell_type": "code",
   "execution_count": 50,
   "id": "830b4038",
   "metadata": {},
   "outputs": [
    {
     "data": {
      "text/plain": [
       "pandas.core.series.Series"
      ]
     },
     "execution_count": 50,
     "metadata": {},
     "output_type": "execute_result"
    }
   ],
   "source": [
    "type(df.B)"
   ]
  },
  {
   "cell_type": "code",
   "execution_count": 51,
   "id": "97223a4a",
   "metadata": {},
   "outputs": [
    {
     "data": {
      "text/html": [
       "<div>\n",
       "<style scoped>\n",
       "    .dataframe tbody tr th:only-of-type {\n",
       "        vertical-align: middle;\n",
       "    }\n",
       "\n",
       "    .dataframe tbody tr th {\n",
       "        vertical-align: top;\n",
       "    }\n",
       "\n",
       "    .dataframe thead th {\n",
       "        text-align: right;\n",
       "    }\n",
       "</style>\n",
       "<table border=\"1\" class=\"dataframe\">\n",
       "  <thead>\n",
       "    <tr style=\"text-align: right;\">\n",
       "      <th></th>\n",
       "      <th>A</th>\n",
       "      <th>C</th>\n",
       "      <th>D</th>\n",
       "    </tr>\n",
       "  </thead>\n",
       "  <tbody>\n",
       "    <tr>\n",
       "      <th>2019-05-25</th>\n",
       "      <td>1.040750</td>\n",
       "      <td>1.105660</td>\n",
       "      <td>1.168958</td>\n",
       "    </tr>\n",
       "    <tr>\n",
       "      <th>2019-05-29</th>\n",
       "      <td>0.822272</td>\n",
       "      <td>1.012399</td>\n",
       "      <td>-1.086171</td>\n",
       "    </tr>\n",
       "    <tr>\n",
       "      <th>2019-06-01</th>\n",
       "      <td>0.396795</td>\n",
       "      <td>0.984043</td>\n",
       "      <td>-0.366444</td>\n",
       "    </tr>\n",
       "  </tbody>\n",
       "</table>\n",
       "</div>"
      ],
      "text/plain": [
       "                   A         C         D\n",
       "2019-05-25  1.040750  1.105660  1.168958\n",
       "2019-05-29  0.822272  1.012399 -1.086171\n",
       "2019-06-01  0.396795  0.984043 -0.366444"
      ]
     },
     "execution_count": 51,
     "metadata": {},
     "output_type": "execute_result"
    }
   ],
   "source": [
    "df.loc[['20190525','20190529','20190601'],['A','C','D']]"
   ]
  },
  {
   "cell_type": "markdown",
   "id": "2034ba2d",
   "metadata": {},
   "source": [
    "# Matplotlib"
   ]
  },
  {
   "cell_type": "code",
   "execution_count": 58,
   "id": "c23788a0",
   "metadata": {},
   "outputs": [
    {
     "data": {
      "text/plain": [
       "<matplotlib.legend.Legend at 0x1de00fec610>"
      ]
     },
     "execution_count": 58,
     "metadata": {},
     "output_type": "execute_result"
    },
    {
     "data": {
      "image/png": "[encoded data removed]",
      "text/plain": [
       "<Figure size 640x480 with 1 Axes>"
      ]
     },
     "metadata": {},
     "output_type": "display_data"
    }
   ],
   "source": [
    "# from matplotlib import style\n",
    "# style.use(\"ggplot\")\n",
    "x1, y1 = [1,  2,  3,  4,  5,  6,  7,  8,  9, 10], [2,4.5,1,2,3.5,2,1,2,3,2]\n",
    "x2, y2 = [1,  2,  3,  4,  5,  6,  7,  8,  9, 10], [3,4,2,5,2,4,2.5,4,3.5,3]\n",
    "plt.plot(x1,y1, label = \"Jim\")\n",
    "plt.plot(x2,y2,  label = \"Tom\")\n",
    "plt.title(\"Results\")\n",
    "plt.xlabel(\"Semester\")\n",
    "plt.ylabel(\"Grade\")\n",
    "plt.legend()"
   ]
  },
  {
   "cell_type": "code",
   "execution_count": 53,
   "id": "a3f6eb57",
   "metadata": {},
   "outputs": [
    {
     "data": {
      "text/plain": [
       "<matplotlib.legend.Legend at 0x1de7f383580>"
      ]
     },
     "execution_count": 53,
     "metadata": {},
     "output_type": "execute_result"
    },
    {
     "data": {
      "image/png": "[encoded data removed]",
      "text/plain": [
       "<Figure size 640x480 with 1 Axes>"
      ]
     },
     "metadata": {},
     "output_type": "display_data"
    }
   ],
   "source": [
    "# Bar chart\n",
    "plt.bar(x1,y1, label=\"Jim\", color = \"m\", align=\"center\")\n",
    "plt.legend()"
   ]
  },
  {
   "cell_type": "code",
   "execution_count": 59,
   "id": "e1e455e5",
   "metadata": {},
   "outputs": [
    {
     "data": {
      "text/plain": [
       "<matplotlib.legend.Legend at 0x1de0111e5c0>"
      ]
     },
     "execution_count": 59,
     "metadata": {},
     "output_type": "execute_result"
    },
    {
     "data": {
      "image/png": "[encoded data removed]",
      "text/plain": [
       "<Figure size 640x480 with 1 Axes>"
      ]
     },
     "metadata": {},
     "output_type": "display_data"
    }
   ],
   "source": [
    "# Ajouter un autre diagramme au diagramme existant\n",
    "x3, y3 = [1,  2,  3,  4,  5,  6,  7,  8,  9, 10], [1.2,4.1,0.3,4,5.5,4.7,4.8,5.2,1,1.1]\n",
    "plt.bar(x1,y1, label=\"Jim\", color = \"m\", align=\"center\", alpha=0.5)\n",
    "plt.legend()\n",
    "plt.bar(x3,y3, label=\"Tom\", color = \"g\", align=\"center\", alpha=0.5)\n",
    "plt.title(\"Results\")\n",
    "plt.xlabel(\"Semester\")\n",
    "plt.ylabel(\"Grade\")\n",
    "plt.legend()"
   ]
  },
  {
   "cell_type": "code",
   "execution_count": 70,
   "id": "5d19f85b",
   "metadata": {},
   "outputs": [
    {
     "data": {
      "image/png": "[encoded data removed]",
      "text/plain": [
       "<Figure size 640x480 with 1 Axes>"
      ]
     },
     "metadata": {},
     "output_type": "display_data"
    }
   ],
   "source": [
    "labels = [\"Chrome\", \"Internet Explorer\", \"Firefox\", \"Edge\", \"Safari\",\n",
    "          \"Sougou Explorer\", \"Opera\", \"Others\"]\n",
    "\n",
    "marketshare = [61.64, 11.98, 11.02, 4.23, 3.79, 1.63, 1.52, 4.19]\n",
    "explode = (0,0,0,0,0,0,0,0)\n",
    "explode = (0,0,0.5,0,0.8,0,0.7,0) # gère le décalage des partitions\n",
    "colors = [\"yellowgreen\", \"gold\", \"lightskyblue\", \"lightcoral\"]\n",
    "\n",
    "pie = plt.pie(marketshare, explode = explode, labels=labels, autopct=\"%.1f%%\",\n",
    "       startangle=45, colors = colors)\n",
    "plt.axis(\"equal\")\n",
    "plt.title(\"Web browser Marketshare - 2018\")\n",
    "plt.legend(pie[0], labels, loc = 3) \n",
    "plt.show()"
   ]
  },
  {
   "cell_type": "markdown",
   "id": "e6b54bb5",
   "metadata": {},
   "source": [
    "# Scatter Plot"
   ]
  },
  {
   "cell_type": "code",
   "execution_count": 85,
   "id": "599c0fa5",
   "metadata": {},
   "outputs": [
    {
     "data": {
      "text/plain": [
       "(0.0, 4.5, 0.0, 70.0)"
      ]
     },
     "execution_count": 85,
     "metadata": {},
     "output_type": "execute_result"
    },
    {
     "data": {
      "image/png": "[encoded data removed]",
      "text/plain": [
       "<Figure size 640x480 with 1 Axes>"
      ]
     },
     "metadata": {},
     "output_type": "display_data"
    }
   ],
   "source": [
    "x, y = [1,2,3,4], [1,8, 27, 64]\n",
    "plt.plot(x, y, 'ro') # 'ro' signifie couleur rouge avec des motifs en forme de cercles remplis en rouge\n",
    "# en mettant '*' les motifs deviennent des etoiles \n",
    "plt.axis([0, 4.5, 0, 70])"
   ]
  },
  {
   "cell_type": "code",
   "execution_count": 180,
   "id": "7e42d670",
   "metadata": {},
   "outputs": [
    {
     "data": {
      "image/png": "[encoded data removed]",
      "text/plain": [
       "<Figure size 800x500 with 1 Axes>"
      ]
     },
     "metadata": {},
     "output_type": "display_data"
    },
    {
     "data": {
      "image/png": "[encoded data removed]",
      "text/plain": [
       "<Figure size 800x500 with 1 Axes>"
      ]
     },
     "metadata": {},
     "output_type": "display_data"
    },
    {
     "data": {
      "image/png": "[encoded data removed]",
      "text/plain": [
       "<Figure size 800x500 with 1 Axes>"
      ]
     },
     "metadata": {},
     "output_type": "display_data"
    }
   ],
   "source": [
    "a = np.arange(1,4.5,0.1)\n",
    "def g(x):\n",
    "    return a ** 2\n",
    "\n",
    "def h(x):\n",
    "    return a ** 3\n",
    "\n",
    "def k(x):\n",
    "    return a ** 4\n",
    "    \n",
    "y1 = g(x)\n",
    "y2 = h(x)\n",
    "y3 = k(x)\n",
    "\n",
    "C = [y1, y2, y3]\n",
    "Nom = [\"g(x)\",\"h(x)\",\"k(x)\"]\n",
    "for i in range(3):\n",
    "    plt.figure(figsize=(8,5))\n",
    "    plt.subplot(2, 2, i+1)\n",
    "    plt.plot(a, C[i], color = 'g', label = \"Courbe de \"+Nom[i])\n",
    "    plt.legend()\n",
    "    plt.grid()"
   ]
  },
  {
   "cell_type": "code",
   "execution_count": 136,
   "id": "1ec70a9c",
   "metadata": {},
   "outputs": [
    {
     "data": {
      "text/plain": [
       "(0.9, 2.0, 0.0, 50.0)"
      ]
     },
     "execution_count": 136,
     "metadata": {},
     "output_type": "execute_result"
    },
    {
     "data": {
      "image/png": "[encoded data removed]",
      "text/plain": [
       "<Figure size 640x480 with 2 Axes>"
      ]
     },
     "metadata": {},
     "output_type": "display_data"
    }
   ],
   "source": [
    "plt.subplot(1,2,1)\n",
    "plt.plot(a, g(x), 'y^')\n",
    "plt.axis([0.9, 2.5, 0, 30])\n",
    "\n",
    "plt.subplot(1,2,2)\n",
    "plt.plot(a, h(x), 'go', a, k(x), 'b*')\n",
    "plt.axis([0.9, 2, 0, 50])\n"
   ]
  },
  {
   "cell_type": "markdown",
   "id": "e3417d08",
   "metadata": {},
   "source": [
    "\n",
    "# Seaborn"
   ]
  },
  {
   "cell_type": "code",
   "execution_count": 150,
   "id": "a8185ee3",
   "metadata": {},
   "outputs": [],
   "source": [
    "data = pd.read_csv(\"drivinglicense.csv\", sep=\";\")"
   ]
  },
  {
   "cell_type": "code",
   "execution_count": 178,
   "id": "7b878717",
   "metadata": {},
   "outputs": [
    {
     "data": {
      "text/html": [
       "<div>\n",
       "<style scoped>\n",
       "    .dataframe tbody tr th:only-of-type {\n",
       "        vertical-align: middle;\n",
       "    }\n",
       "\n",
       "    .dataframe tbody tr th {\n",
       "        vertical-align: top;\n",
       "    }\n",
       "\n",
       "    .dataframe thead th {\n",
       "        text-align: right;\n",
       "    }\n",
       "</style>\n",
       "<table border=\"1\" class=\"dataframe\">\n",
       "  <thead>\n",
       "    <tr style=\"text-align: right;\">\n",
       "      <th></th>\n",
       "      <th>gender</th>\n",
       "      <th>group</th>\n",
       "      <th>license</th>\n",
       "    </tr>\n",
       "  </thead>\n",
       "  <tbody>\n",
       "    <tr>\n",
       "      <th>10</th>\n",
       "      <td>women</td>\n",
       "      <td>B</td>\n",
       "      <td>1</td>\n",
       "    </tr>\n",
       "    <tr>\n",
       "      <th>11</th>\n",
       "      <td>women</td>\n",
       "      <td>B</td>\n",
       "      <td>1</td>\n",
       "    </tr>\n",
       "    <tr>\n",
       "      <th>12</th>\n",
       "      <td>women</td>\n",
       "      <td>B</td>\n",
       "      <td>1</td>\n",
       "    </tr>\n",
       "    <tr>\n",
       "      <th>13</th>\n",
       "      <td>women</td>\n",
       "      <td>B</td>\n",
       "      <td>1</td>\n",
       "    </tr>\n",
       "  </tbody>\n",
       "</table>\n",
       "</div>"
      ],
      "text/plain": [
       "   gender group  license\n",
       "10  women     B        1\n",
       "11  women     B        1\n",
       "12  women     B        1\n",
       "13  women     B        1"
      ]
     },
     "execution_count": 178,
     "metadata": {},
     "output_type": "execute_result"
    }
   ],
   "source": [
    "b = data[(data.group == \"B\") & (data.gender == \"women\")]\n",
    "b.loc[:, [\"gender\",\"group\",\"license\"]]"
   ]
  },
  {
   "cell_type": "code",
   "execution_count": 175,
   "id": "9e48583c",
   "metadata": {},
   "outputs": [
    {
     "name": "stderr",
     "output_type": "stream",
     "text": [
      "C:\\Users\\HP\\AppData\\Local\\Temp\\ipykernel_11012\\3715929453.py:1: FutureWarning: \n",
      "\n",
      "The `ci` parameter is deprecated. Use `errorbar=None` for the same effect.\n",
      "\n",
      "  g = sns.catplot(x=\"gender\", y=\"license\", col=\"group\", data=data,\n"
     ]
    },
    {
     "data": {
      "image/png": "[encoded data removed]",
      "text/plain": [
       "<Figure size 1000x500 with 2 Axes>"
      ]
     },
     "metadata": {},
     "output_type": "display_data"
    }
   ],
   "source": [
    "g = sns.catplot(x=\"gender\", y=\"license\", col=\"group\", data=data,\n",
    "               kind = \"bar\", ci = None, aspect= 1.0)\n",
    "g.set_axis_labels(\"\", \"Proportion with driving license\")\n",
    "g.set_xticklabels([\"Men\", \"women\"])\n",
    "g.set_titles(\"{col_var} {col_name}\")\n",
    "plt.show()"
   ]
  },
  {
   "cell_type": "code",
   "execution_count": 208,
   "id": "0fd0b80b",
   "metadata": {},
   "outputs": [
    {
     "data": {
      "text/html": [
       "<div>\n",
       "<style scoped>\n",
       "    .dataframe tbody tr th:only-of-type {\n",
       "        vertical-align: middle;\n",
       "    }\n",
       "\n",
       "    .dataframe tbody tr th {\n",
       "        vertical-align: top;\n",
       "    }\n",
       "\n",
       "    .dataframe thead th {\n",
       "        text-align: right;\n",
       "    }\n",
       "</style>\n",
       "<table border=\"1\" class=\"dataframe\">\n",
       "  <thead>\n",
       "    <tr style=\"text-align: right;\">\n",
       "      <th></th>\n",
       "      <th>gender</th>\n",
       "      <th>salary</th>\n",
       "    </tr>\n",
       "  </thead>\n",
       "  <tbody>\n",
       "    <tr>\n",
       "      <th>0</th>\n",
       "      <td>men</td>\n",
       "      <td>100000</td>\n",
       "    </tr>\n",
       "    <tr>\n",
       "      <th>1</th>\n",
       "      <td>men</td>\n",
       "      <td>120000</td>\n",
       "    </tr>\n",
       "    <tr>\n",
       "      <th>2</th>\n",
       "      <td>men</td>\n",
       "      <td>119000</td>\n",
       "    </tr>\n",
       "    <tr>\n",
       "      <th>3</th>\n",
       "      <td>men</td>\n",
       "      <td>77000</td>\n",
       "    </tr>\n",
       "    <tr>\n",
       "      <th>4</th>\n",
       "      <td>men</td>\n",
       "      <td>83000</td>\n",
       "    </tr>\n",
       "  </tbody>\n",
       "</table>\n",
       "</div>"
      ],
      "text/plain": [
       "  gender  salary\n",
       "0    men  100000\n",
       "1    men  120000\n",
       "2    men  119000\n",
       "3    men   77000\n",
       "4    men   83000"
      ]
     },
     "execution_count": 208,
     "metadata": {},
     "output_type": "execute_result"
    }
   ],
   "source": [
    "sns.set_style(\"whitegrid\")\n",
    "salaire = pd.read_csv(\"personnel_salary.csv\", encoding=\"utf-8\", sep=\";\")\n",
    "salaire.head()"
   ]
  },
  {
   "cell_type": "code",
   "execution_count": 203,
   "id": "996c5778",
   "metadata": {},
   "outputs": [
    {
     "data": {
      "text/html": [
       "<div>\n",
       "<style scoped>\n",
       "    .dataframe tbody tr th:only-of-type {\n",
       "        vertical-align: middle;\n",
       "    }\n",
       "\n",
       "    .dataframe tbody tr th {\n",
       "        vertical-align: top;\n",
       "    }\n",
       "\n",
       "    .dataframe thead th {\n",
       "        text-align: right;\n",
       "    }\n",
       "</style>\n",
       "<table border=\"1\" class=\"dataframe\">\n",
       "  <thead>\n",
       "    <tr style=\"text-align: right;\">\n",
       "      <th></th>\n",
       "      <th>gender</th>\n",
       "    </tr>\n",
       "  </thead>\n",
       "  <tbody>\n",
       "    <tr>\n",
       "      <th>0</th>\n",
       "      <td>men</td>\n",
       "    </tr>\n",
       "    <tr>\n",
       "      <th>2</th>\n",
       "      <td>men</td>\n",
       "    </tr>\n",
       "    <tr>\n",
       "      <th>3</th>\n",
       "      <td>men</td>\n",
       "    </tr>\n",
       "    <tr>\n",
       "      <th>4</th>\n",
       "      <td>men</td>\n",
       "    </tr>\n",
       "    <tr>\n",
       "      <th>7</th>\n",
       "      <td>women</td>\n",
       "    </tr>\n",
       "    <tr>\n",
       "      <th>9</th>\n",
       "      <td>women</td>\n",
       "    </tr>\n",
       "    <tr>\n",
       "      <th>10</th>\n",
       "      <td>women</td>\n",
       "    </tr>\n",
       "    <tr>\n",
       "      <th>11</th>\n",
       "      <td>women</td>\n",
       "    </tr>\n",
       "  </tbody>\n",
       "</table>\n",
       "</div>"
      ],
      "text/plain": [
       "   gender\n",
       "0     men\n",
       "2     men\n",
       "3     men\n",
       "4     men\n",
       "7   women\n",
       "9   women\n",
       "10  women\n",
       "11  women"
      ]
     },
     "execution_count": 203,
     "metadata": {},
     "output_type": "execute_result"
    }
   ],
   "source": [
    "sal = salaire[salaire.salary < 120000]\n",
    "sal.loc[:,['gender']]"
   ]
  },
  {
   "cell_type": "code",
   "execution_count": 209,
   "id": "3d557c9f",
   "metadata": {},
   "outputs": [
    {
     "data": {
      "image/png": "[encoded data removed]",
      "text/plain": [
       "<Figure size 640x480 with 1 Axes>"
      ]
     },
     "metadata": {},
     "output_type": "display_data"
    }
   ],
   "source": [
    "sns.swarmplot(x = \"gender\", y = \"salary\", data = salaire)\n",
    "ax = plt.gca()\n",
    "ax.set_title(\"Salary Distribution\")\n",
    "plt.show()"
   ]
  },
  {
   "cell_type": "markdown",
   "id": "3b38ff41",
   "metadata": {},
   "source": [
    "# Getting sarted with Scikit-learn"
   ]
  },
  {
   "cell_type": "code",
   "execution_count": null,
   "id": "6b1bc288",
   "metadata": {},
   "outputs": [],
   "source": []
  },
  {
   "cell_type": "code",
   "execution_count": null,
   "id": "7ef53c3d",
   "metadata": {},
   "outputs": [],
   "source": []
  },
  {
   "cell_type": "code",
   "execution_count": null,
   "id": "25667db1",
   "metadata": {},
   "outputs": [],
   "source": []
  },
  {
   "cell_type": "code",
   "execution_count": null,
   "id": "332d34ba",
   "metadata": {},
   "outputs": [],
   "source": []
  }
 ],
 "metadata": {
  "kernelspec": {
   "display_name": "Python 3 (ipykernel)",
   "language": "python",
   "name": "python3"
  },
  "language_info": {
   "codemirror_mode": {
    "name": "ipython",
    "version": 3
   },
   "file_extension": ".py",
   "mimetype": "text/x-python",
   "name": "python",
   "nbconvert_exporter": "python",
   "pygments_lexer": "ipython3",
   "version": "3.10.9"
  }
 },
 "nbformat": 4,
 "nbformat_minor": 5
}
