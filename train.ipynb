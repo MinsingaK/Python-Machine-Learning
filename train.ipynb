{
 "cells": [
  {
   "cell_type": "code",
   "execution_count": 1,
   "id": "b4786865",
   "metadata": {},
   "outputs": [],
   "source": [
    "import numpy as np\n",
    "import pandas as pd"
   ]
  },
  {
   "cell_type": "markdown",
   "id": "3d18571a",
   "metadata": {},
   "source": [
    "# Numpy"
   ]
  },
  {
   "cell_type": "code",
   "execution_count": 10,
   "id": "09ead272",
   "metadata": {},
   "outputs": [
    {
     "data": {
      "text/plain": [
       "(10,)"
      ]
     },
     "execution_count": 10,
     "metadata": {},
     "output_type": "execute_result"
    }
   ],
   "source": [
    "a1 = np.arange(10)\n",
    "a1.shape"
   ]
  },
  {
   "cell_type": "code",
   "execution_count": 13,
   "id": "259f155f",
   "metadata": {},
   "outputs": [
    {
     "data": {
      "text/plain": [
       "array([0, 2, 4, 6, 8])"
      ]
     },
     "execution_count": 13,
     "metadata": {},
     "output_type": "execute_result"
    }
   ],
   "source": [
    "a2 = np.arange(0, 10, 2) # On va de 0 a 10 par pas de 2\n",
    "a2"
   ]
  },
  {
   "cell_type": "code",
   "execution_count": 26,
   "id": "04468f6a",
   "metadata": {},
   "outputs": [
    {
     "data": {
      "text/plain": [
       "array([0., 0., 0.])"
      ]
     },
     "execution_count": 26,
     "metadata": {},
     "output_type": "execute_result"
    }
   ],
   "source": [
    "a3 = np.zeros(3)\n",
    "a3"
   ]
  },
  {
   "cell_type": "code",
   "execution_count": 30,
   "id": "b8b9d1c8",
   "metadata": {},
   "outputs": [
    {
     "data": {
      "text/plain": [
       "array([[1., 0., 0., 0.],\n",
       "       [0., 1., 0., 0.],\n",
       "       [0., 0., 1., 0.],\n",
       "       [0., 0., 0., 1.]])"
      ]
     },
     "execution_count": 30,
     "metadata": {},
     "output_type": "execute_result"
    }
   ],
   "source": [
    "a4 = np.eye(4) #Matrice identité\n",
    "a4"
   ]
  },
  {
   "cell_type": "code",
   "execution_count": 39,
   "id": "7ac3bcf0",
   "metadata": {},
   "outputs": [
    {
     "data": {
      "text/plain": [
       "array([[ 1,  2,  3,  4,  5],\n",
       "       [ 6,  7,  8,  9, 10],\n",
       "       [12, 14, 16, 18, 20]])"
      ]
     },
     "execution_count": 39,
     "metadata": {},
     "output_type": "execute_result"
    }
   ],
   "source": [
    "list1 = np.arange(1,6,1)\n",
    "list2 = np.arange(6,11,1)\n",
    "list3 = np.arange(12, 22, 2)\n",
    "r = np.array([list1, list2, list3])\n",
    "r"
   ]
  },
  {
   "cell_type": "code",
   "execution_count": 40,
   "id": "506a1f60",
   "metadata": {},
   "outputs": [
    {
     "data": {
      "text/plain": [
       "array([[ 1,  2,  3,  4,  5],\n",
       "       [ 6,  7,  8,  9, 10],\n",
       "       [12, 14, 16, 18, 20]])"
      ]
     },
     "execution_count": 40,
     "metadata": {},
     "output_type": "execute_result"
    }
   ],
   "source": [
    "r[:,:]"
   ]
  },
  {
   "cell_type": "code",
   "execution_count": 43,
   "id": "4c9193c6",
   "metadata": {},
   "outputs": [
    {
     "data": {
      "text/plain": [
       "array([[ 6,  7,  8,  9, 10],\n",
       "       [12, 14, 16, 18, 20]])"
      ]
     },
     "execution_count": 43,
     "metadata": {},
     "output_type": "execute_result"
    }
   ],
   "source": [
    "r[1:] #Prend tout a partir de la premiere ligne"
   ]
  },
  {
   "cell_type": "code",
   "execution_count": 45,
   "id": "9c477f7a",
   "metadata": {},
   "outputs": [
    {
     "data": {
      "text/plain": [
       "array([[1, 2, 3, 4, 5]])"
      ]
     },
     "execution_count": 45,
     "metadata": {},
     "output_type": "execute_result"
    }
   ],
   "source": [
    "r[:1] #Ne prend que la premiere ligne"
   ]
  },
  {
   "cell_type": "code",
   "execution_count": 48,
   "id": "a834c979",
   "metadata": {},
   "outputs": [
    {
     "data": {
      "text/plain": [
       "array([[ 1],\n",
       "       [ 6],\n",
       "       [12]])"
      ]
     },
     "execution_count": 48,
     "metadata": {},
     "output_type": "execute_result"
    }
   ],
   "source": [
    "r[:,:1] #Idem, ne prend que la premiere colonnne"
   ]
  },
  {
   "cell_type": "code",
   "execution_count": 50,
   "id": "0c9e56a3",
   "metadata": {},
   "outputs": [
    {
     "data": {
      "text/plain": [
       "array([[ 3,  4,  5],\n",
       "       [ 8,  9, 10],\n",
       "       [16, 18, 20]])"
      ]
     },
     "execution_count": 50,
     "metadata": {},
     "output_type": "execute_result"
    }
   ],
   "source": [
    "r[:,2:] #Prend a partir de la 2e colonne, avec la 2e colonne exclue"
   ]
  },
  {
   "cell_type": "code",
   "execution_count": 51,
   "id": "e2803fb8",
   "metadata": {},
   "outputs": [
    {
     "data": {
      "text/plain": [
       "array([[ 1,  2,  3,  4,  5],\n",
       "       [ 6,  7,  8,  9, 10],\n",
       "       [12, 14, 16, 18, 20]])"
      ]
     },
     "execution_count": 51,
     "metadata": {},
     "output_type": "execute_result"
    }
   ],
   "source": [
    "r"
   ]
  },
  {
   "cell_type": "code",
   "execution_count": 68,
   "id": "87e55f79",
   "metadata": {},
   "outputs": [
    {
     "data": {
      "text/plain": [
       "array([14, 16])"
      ]
     },
     "execution_count": 68,
     "metadata": {},
     "output_type": "execute_result"
    }
   ],
   "source": [
    "r[2,1:3]"
   ]
  },
  {
   "cell_type": "code",
   "execution_count": 69,
   "id": "cd269c2a",
   "metadata": {},
   "outputs": [
    {
     "data": {
      "text/plain": [
       "array([[ 6,  7,  8],\n",
       "       [12, 14, 16]])"
      ]
     },
     "execution_count": 69,
     "metadata": {},
     "output_type": "execute_result"
    }
   ],
   "source": [
    "r[1:3, :3]"
   ]
  },
  {
   "cell_type": "code",
   "execution_count": 79,
   "id": "dbf4e297",
   "metadata": {},
   "outputs": [
    {
     "data": {
      "text/plain": [
       "array([[ 9, 10],\n",
       "       [18, 20]])"
      ]
     },
     "execution_count": 79,
     "metadata": {},
     "output_type": "execute_result"
    }
   ],
   "source": [
    "r[-2:,-2:]"
   ]
  },
  {
   "cell_type": "code",
   "execution_count": 87,
   "id": "e1553f81",
   "metadata": {},
   "outputs": [
    {
     "data": {
      "text/plain": [
       "array([6, 5])"
      ]
     },
     "execution_count": 87,
     "metadata": {},
     "output_type": "execute_result"
    }
   ],
   "source": [
    "x = np.array([2,3])\n",
    "y = np.array([4,2])\n",
    "z = np.add(x, y)\n",
    "z"
   ]
  },
  {
   "cell_type": "code",
   "execution_count": 94,
   "id": "4925529e",
   "metadata": {},
   "outputs": [
    {
     "data": {
      "text/plain": [
       "array([-2,  1])"
      ]
     },
     "execution_count": 94,
     "metadata": {},
     "output_type": "execute_result"
    }
   ],
   "source": [
    "x - y"
   ]
  },
  {
   "cell_type": "code",
   "execution_count": 95,
   "id": "3d67c01e",
   "metadata": {},
   "outputs": [
    {
     "data": {
      "text/plain": [
       "array([8, 6])"
      ]
     },
     "execution_count": 95,
     "metadata": {},
     "output_type": "execute_result"
    }
   ],
   "source": [
    "x * y"
   ]
  },
  {
   "cell_type": "code",
   "execution_count": 98,
   "id": "c5d70831",
   "metadata": {},
   "outputs": [
    {
     "data": {
      "text/plain": [
       "array([0.5, 1.5])"
      ]
     },
     "execution_count": 98,
     "metadata": {},
     "output_type": "execute_result"
    }
   ],
   "source": [
    "x / y"
   ]
  },
  {
   "cell_type": "code",
   "execution_count": 99,
   "id": "39a0ca32",
   "metadata": {},
   "outputs": [],
   "source": [
    "names = np.array(['Anne','Joe','Mark'])\n",
    "heights = np.array([1.5, 1.78, 1.6])\n",
    "weights = np.array([65, 46, 59])"
   ]
  },
  {
   "cell_type": "code",
   "execution_count": 101,
   "id": "43eb20ad",
   "metadata": {},
   "outputs": [
    {
     "data": {
      "text/plain": [
       "array([28.88888889, 14.51836889, 23.046875  ])"
      ]
     },
     "execution_count": 101,
     "metadata": {},
     "output_type": "execute_result"
    }
   ],
   "source": [
    "bm1 = weights / heights ** 2\n",
    "bm1"
   ]
  },
  {
   "cell_type": "code",
   "execution_count": 106,
   "id": "4a2275ff",
   "metadata": {},
   "outputs": [
    {
     "name": "stdout",
     "output_type": "stream",
     "text": [
      "Overweight  ['Anne']\n",
      "Underweight  ['Joe']\n",
      "Normalweight  ['Mark']\n"
     ]
    }
   ],
   "source": [
    "#Très bonne façon de faire des eindexations avec des conditions également\n",
    "print(\"Overweight \", names[bm1 > 25])\n",
    "print(\"Underweight \", names[bm1 < 18.5])\n",
    "print(\"Normalweight \", names[(bm1 <= 25) & (bm1 >= 18.5)])"
   ]
  },
  {
   "cell_type": "code",
   "execution_count": null,
   "id": "4d24af72",
   "metadata": {},
   "outputs": [],
   "source": []
  },
  {
   "cell_type": "code",
   "execution_count": null,
   "id": "68563032",
   "metadata": {},
   "outputs": [],
   "source": []
  },
  {
   "cell_type": "code",
   "execution_count": null,
   "id": "0d2243da",
   "metadata": {},
   "outputs": [],
   "source": []
  }
 ],
 "metadata": {
  "kernelspec": {
   "display_name": "Python 3 (ipykernel)",
   "language": "python",
   "name": "python3"
  },
  "language_info": {
   "codemirror_mode": {
    "name": "ipython",
    "version": 3
   },
   "file_extension": ".py",
   "mimetype": "text/x-python",
   "name": "python",
   "nbconvert_exporter": "python",
   "pygments_lexer": "ipython3",
   "version": "3.10.9"
  }
 },
 "nbformat": 4,
 "nbformat_minor": 5
}
